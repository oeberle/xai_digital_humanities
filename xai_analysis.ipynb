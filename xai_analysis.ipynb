{
 "cells": [
  {
   "cell_type": "code",
   "execution_count": 1,
   "id": "adebff20",
   "metadata": {},
   "outputs": [],
   "source": [
    "%load_ext autoreload\n",
    "%autoreload 2\n",
    "import matplotlib.pyplot as plt\n",
    "import pandas as pd\n",
    "import numpy as np\n",
    "import os\n",
    "import glob\n",
    "import PIL\n",
    "import matplotlib.pyplot as plt"
   ]
  },
  {
   "cell_type": "code",
   "execution_count": 2,
   "id": "08ee3fd6-f675-4dea-8f81-c33af2d54e65",
   "metadata": {},
   "outputs": [
    {
     "name": "stderr",
     "output_type": "stream",
     "text": [
      "/usr/local/lib/python3.10/site-packages/torchvision/models/_utils.py:208: UserWarning: The parameter 'pretrained' is deprecated since 0.13 and may be removed in the future, please use 'weights' instead.\n",
      "  warnings.warn(\n",
      "/usr/local/lib/python3.10/site-packages/torchvision/models/_utils.py:223: UserWarning: Arguments other than a weight enum or `None` for 'weights' are deprecated since 0.13 and may be removed in the future. The current behavior is equivalent to passing `weights=VGG16_Weights.IMAGENET1K_V1`. You can also use `weights=VGG16_Weights.DEFAULT` to get the most up-to-date weights.\n",
      "  warnings.warn(msg)\n"
     ]
    }
   ],
   "source": [
    "from utils import get_model\n",
    "import torch\n",
    "\n",
    "weight_dir = 'model_.pt'\n",
    "model = get_model(weight_dir, n_classes=4)\n",
    "device = torch.device(\"cuda\" if torch.cuda.is_available() else \"cpu\")\n"
   ]
  },
  {
   "cell_type": "code",
   "execution_count": 3,
   "id": "db1117d0-2184-4b40-aa2b-a767df56c71a",
   "metadata": {},
   "outputs": [
    {
     "ename": "NameError",
     "evalue": "name 'data_root' is not defined",
     "output_type": "error",
     "traceback": [
      "\u001b[0;31m---------------------------------------------------------------------------\u001b[0m",
      "\u001b[0;31mNameError\u001b[0m                                 Traceback (most recent call last)",
      "Cell \u001b[0;32mIn[3], line 1\u001b[0m\n\u001b[0;32m----> 1\u001b[0m \u001b[38;5;28;01mfor\u001b[39;00m file \u001b[38;5;129;01min\u001b[39;00m glob\u001b[38;5;241m.\u001b[39mglob(os\u001b[38;5;241m.\u001b[39mpath\u001b[38;5;241m.\u001b[39mjoin(\u001b[43mdata_root\u001b[49m, \u001b[38;5;124m'\u001b[39m\u001b[38;5;124m*\u001b[39m\u001b[38;5;124m'\u001b[39m, \u001b[38;5;124m'\u001b[39m\u001b[38;5;124mraw\u001b[39m\u001b[38;5;124m'\u001b[39m, \u001b[38;5;124m'\u001b[39m\u001b[38;5;124m*.jpg\u001b[39m\u001b[38;5;124m'\u001b[39m)):\n\u001b[1;32m      2\u001b[0m     pil \u001b[38;5;241m=\u001b[39m PIL\u001b[38;5;241m.\u001b[39mImage\u001b[38;5;241m.\u001b[39mopen(file)\n\u001b[1;32m      3\u001b[0m     image \u001b[38;5;241m=\u001b[39m np\u001b[38;5;241m.\u001b[39marray(pil)\n",
      "\u001b[0;31mNameError\u001b[0m: name 'data_root' is not defined"
     ]
    }
   ],
   "source": [
    "\n",
    "for file in glob.glob(os.path.join(data_root, '*', 'raw', '*.jpg')):\n",
    "    pil = PIL.Image.open(file)\n",
    "    image = np.array(pil)\n",
    "    plt.imshow(image)\n",
    "    plt.title(os.path.split(file)[1], fontsize=10)\n",
    "    plt.show()"
   ]
  },
  {
   "cell_type": "code",
   "execution_count": null,
   "id": "6d2f131d-7241-4bd0-8537-1ed62c35b6d7",
   "metadata": {},
   "outputs": [],
   "source": [
    "from dataloaders.proc_utils import read_image_gray, binarize, write_image_binary\n",
    "# Load\n",
    "from dataloaders.instrument_pages import sphaera_instruments_page\n",
    "from dataloaders.dataset import PageDataset, PageDatasetBoxes\n",
    "from utils import set_up_dir\n",
    "\n",
    "data_root = 'sample_data/pages'\n",
    "csv_instruments = 'sample_data/data_subset.csv'\n",
    "df_instruments = pd.read_csv(csv_instruments)\n",
    "\n",
    "\n",
    "from dataloaders.proc_utils import read_image_gray, binarize, write_image_binary\n",
    "\n",
    "for file in glob.glob(os.path.join(data_root, '*', 'raw', '*.jpg')):\n",
    "    file_path_bin = file.replace('raw', 'processed')\n",
    "\n",
    "    print(file_path_bin)\n",
    "    # Binarize\n",
    "    if not os.path.exists(file_path_bin):\n",
    "\n",
    "        set_up_dir(os.path.split(file_path_bin)[0])\n",
    "        image = read_image_gray(file)\n",
    "        image = binarize(image)\n",
    "        write_image_binary(file_path_bin, image)\n",
    "\n",
    "# Collecting data\n",
    "dataloader = sphaera_instruments_page(data_root=data_root, source=df_instruments, binarize=False, refsize=800, removemean=True, train_split=1., extra_data = None, loader = PageDatasetBoxes )  \n"
   ]
  },
  {
   "cell_type": "code",
   "execution_count": null,
   "id": "6b2cc5ea-3040-46a9-9b57-99c0c2d2bcd6",
   "metadata": {},
   "outputs": [],
   "source": [
    "from xai import explain, get_prediction, plot_heatmap\n",
    "\n",
    "title_map = {0: 'other page', 1: 'instrument', 2: 'machine', 3: 'illustrations'}\n",
    "\n",
    "j=0\n",
    "for x in dataloader['train']:\n",
    "\n",
    "    y_pred, logits, probs =  get_prediction(model, x[0], device)\n",
    "    cases = [i for i in sorted(title_map.keys())]\n",
    "    y_true = int(x[2][j])\n",
    "    confidence = '{:0.4f}'.format(probs[y_true])\n",
    "\n",
    "    R_dict = {k: None for k in cases}\n",
    "\n",
    "    for l,cl  in enumerate(cases):\n",
    "\n",
    "        R_ = explain(model, x[0].to(device), cl=cl, device=device, n_classes=len(title_map))\n",
    "        R = np.array(R_[0][0].detach().cpu().numpy()).sum(axis=0)\n",
    "        R_dict[cl] = R\n",
    "\n",
    "    f, axs = plt.subplots(1,len(title_map), figsize=(12.,4.0))\n",
    "    b = np.max([10*((np.abs(R)**3.0).mean()**(1.0/3)) for R in R_dict.values()])\n",
    "    for l, cl in enumerate(cases):\n",
    "        title_map_ = {k:v for k,v in title_map.items()}\n",
    "        title_map_[y_true] += '*'\n",
    "        plot_heatmap(R_dict[cl], x[0].squeeze()[0], (f,axs[l]), l, title_map_, cl, b)\n",
    "\n",
    "    f.tight_layout()\n",
    "    f.suptitle('predicted : {} - {:0.3f}'.format(title_map[y_pred], probs[y_pred]), y=0.99) #0.91)\n",
    "    plt.subplots_adjust(top=0.9)\n",
    "    plt.show()\n",
    "\n"
   ]
  },
  {
   "cell_type": "code",
   "execution_count": null,
   "id": "dfb46a59-92e1-4a15-a109-c84bf6186b18",
   "metadata": {},
   "outputs": [],
   "source": []
  }
 ],
 "metadata": {
  "kernelspec": {
   "display_name": "Python 3",
   "language": "python",
   "name": "python3"
  },
  "language_info": {
   "codemirror_mode": {
    "name": "ipython",
    "version": 3
   },
   "file_extension": ".py",
   "mimetype": "text/x-python",
   "name": "python",
   "nbconvert_exporter": "python",
   "pygments_lexer": "ipython3",
   "version": "3.10.12"
  }
 },
 "nbformat": 4,
 "nbformat_minor": 5
}
